{
 "cells": [
  {
   "cell_type": "markdown",
   "id": "b438e324-82a9-46ff-b0f5-72de15399634",
   "metadata": {},
   "source": [
    "# 📘 News Classification with XGBoost and Neural Networks\n",
    "\n",
    "This notebook walks through the **AG News dataset** classification task using:\n",
    "- **TF-IDF + XGBoost**\n",
    "- **Neural Networks with Keras**\n",
    "\n",
    "We will cover the following steps:\n",
    "\n",
    "1. Setup, Data Loading, and Initial Preprocessing  \n",
    "2. Text Preprocessing  \n",
    "3. Feature Engineering with TF-IDF  \n",
    "4. Model Training with XGBoost  \n",
    "5. Visualization of Word Frequencies  \n",
    "6. Neural Network Model with Keras  \n"
   ]
  },
  {
   "cell_type": "markdown",
   "id": "d5da7947-b6e2-49aa-87ae-bf5e5fda6e57",
   "metadata": {},
   "source": [
    "## 🔧 Step 1: Setup, Data Loading, and Initial Preprocessing\n",
    "We start by installing and importing the necessary libraries, followed by loading the dataset.  \n",
    "Make sure you have the **AG News dataset (`train.csv`)** in the same directory.\n"
   ]
  },
  {
   "cell_type": "code",
   "execution_count": 23,
   "id": "bd15a779-e8de-48ff-9e5f-a67ba755c7e8",
   "metadata": {},
   "outputs": [],
   "source": [
    "import pandas as pd\n",
    "import re\n",
    "import string\n",
    "import nltk\n",
    "from nltk.corpus import stopwords\n",
    "from nltk.stem import WordNetLemmatizer\n",
    "from sklearn.model_selection import train_test_split\n",
    "from sklearn.feature_extraction.text import TfidfVectorizer\n",
    "from sklearn.metrics import accuracy_score, classification_report\n",
    "import matplotlib.pyplot as plt\n",
    "from collections import Counter\n",
    "import xgboost as xgb\n",
    "import tensorflow as tf\n",
    "from tensorflow.keras.preprocessing.text import Tokenizer\n",
    "from tensorflow.keras.preprocessing.sequence import pad_sequences\n",
    "from tensorflow.keras.models import Sequential\n",
    "from tensorflow.keras.layers import Embedding, Dense, Flatten, Dropout\n"
   ]
  },
  {
   "cell_type": "markdown",
   "id": "057b085e-9ac4-4ae9-801b-d406034e8c21",
   "metadata": {},
   "source": [
    "### Download necessary NLTK data\n",
    "Uncomment these lines if you face errors related to **stopwords** or **lemmatization**.\n"
   ]
  },
  {
   "cell_type": "code",
   "execution_count": 24,
   "id": "ea06d034-88ce-4dc0-8ee6-3201d704a302",
   "metadata": {},
   "outputs": [],
   "source": [
    "#nltk.download('stopwords')\n",
    "#nltk.download('wordnet')\n",
    "#nltk.download('punkt')\n"
   ]
  },
  {
   "cell_type": "markdown",
   "id": "71cdfc8a-387d-4e05-8412-99bf6e57500c",
   "metadata": {},
   "source": [
    "### Load the dataset\n",
    "Each row contains:\n",
    "- `class` (1–4 → World, Sports, Business, Sci/Tech)  \n",
    "- `title`  \n",
    "- `description`\n",
    "\n",
    "We will combine **title + description** into a single text field.\n"
   ]
  },
  {
   "cell_type": "code",
   "execution_count": 25,
   "id": "0d5d4e87-fc45-476c-b4e1-7cf4662c7a31",
   "metadata": {},
   "outputs": [
    {
     "name": "stdout",
     "output_type": "stream",
     "text": [
      "Data loaded and combined successfully.\n"
     ]
    },
    {
     "data": {
      "text/html": [
       "<div>\n",
       "<style scoped>\n",
       "    .dataframe tbody tr th:only-of-type {\n",
       "        vertical-align: middle;\n",
       "    }\n",
       "\n",
       "    .dataframe tbody tr th {\n",
       "        vertical-align: top;\n",
       "    }\n",
       "\n",
       "    .dataframe thead th {\n",
       "        text-align: right;\n",
       "    }\n",
       "</style>\n",
       "<table border=\"1\" class=\"dataframe\">\n",
       "  <thead>\n",
       "    <tr style=\"text-align: right;\">\n",
       "      <th></th>\n",
       "      <th>class</th>\n",
       "      <th>title</th>\n",
       "      <th>description</th>\n",
       "      <th>text</th>\n",
       "    </tr>\n",
       "  </thead>\n",
       "  <tbody>\n",
       "    <tr>\n",
       "      <th>0</th>\n",
       "      <td>Class Index</td>\n",
       "      <td>Title</td>\n",
       "      <td>Description</td>\n",
       "      <td>Title Description</td>\n",
       "    </tr>\n",
       "    <tr>\n",
       "      <th>1</th>\n",
       "      <td>3</td>\n",
       "      <td>Wall St. Bears Claw Back Into the Black (Reuters)</td>\n",
       "      <td>Reuters - Short-sellers, Wall Street's dwindli...</td>\n",
       "      <td>Wall St. Bears Claw Back Into the Black (Reute...</td>\n",
       "    </tr>\n",
       "    <tr>\n",
       "      <th>2</th>\n",
       "      <td>3</td>\n",
       "      <td>Carlyle Looks Toward Commercial Aerospace (Reu...</td>\n",
       "      <td>Reuters - Private investment firm Carlyle Grou...</td>\n",
       "      <td>Carlyle Looks Toward Commercial Aerospace (Reu...</td>\n",
       "    </tr>\n",
       "    <tr>\n",
       "      <th>3</th>\n",
       "      <td>3</td>\n",
       "      <td>Oil and Economy Cloud Stocks' Outlook (Reuters)</td>\n",
       "      <td>Reuters - Soaring crude prices plus worries\\ab...</td>\n",
       "      <td>Oil and Economy Cloud Stocks' Outlook (Reuters...</td>\n",
       "    </tr>\n",
       "    <tr>\n",
       "      <th>4</th>\n",
       "      <td>3</td>\n",
       "      <td>Iraq Halts Oil Exports from Main Southern Pipe...</td>\n",
       "      <td>Reuters - Authorities have halted oil export\\f...</td>\n",
       "      <td>Iraq Halts Oil Exports from Main Southern Pipe...</td>\n",
       "    </tr>\n",
       "  </tbody>\n",
       "</table>\n",
       "</div>"
      ],
      "text/plain": [
       "         class                                              title  \\\n",
       "0  Class Index                                              Title   \n",
       "1            3  Wall St. Bears Claw Back Into the Black (Reuters)   \n",
       "2            3  Carlyle Looks Toward Commercial Aerospace (Reu...   \n",
       "3            3    Oil and Economy Cloud Stocks' Outlook (Reuters)   \n",
       "4            3  Iraq Halts Oil Exports from Main Southern Pipe...   \n",
       "\n",
       "                                         description  \\\n",
       "0                                        Description   \n",
       "1  Reuters - Short-sellers, Wall Street's dwindli...   \n",
       "2  Reuters - Private investment firm Carlyle Grou...   \n",
       "3  Reuters - Soaring crude prices plus worries\\ab...   \n",
       "4  Reuters - Authorities have halted oil export\\f...   \n",
       "\n",
       "                                                text  \n",
       "0                                  Title Description  \n",
       "1  Wall St. Bears Claw Back Into the Black (Reute...  \n",
       "2  Carlyle Looks Toward Commercial Aerospace (Reu...  \n",
       "3  Oil and Economy Cloud Stocks' Outlook (Reuters...  \n",
       "4  Iraq Halts Oil Exports from Main Southern Pipe...  "
      ]
     },
     "execution_count": 25,
     "metadata": {},
     "output_type": "execute_result"
    }
   ],
   "source": [
    "try:\n",
    "    df = pd.read_csv('train.csv', header=None, names=['class', 'title', 'description'])\n",
    "except FileNotFoundError:\n",
    "    print(\"Error: 'train.csv' not found. Please download the AG News dataset from Kaggle.\")\n",
    "    exit()\n",
    "\n",
    "df['text'] = df['title'] + ' ' + df['description']\n",
    "print(\"Data loaded and combined successfully.\")\n",
    "df.head()\n"
   ]
  },
  {
   "cell_type": "markdown",
   "id": "56e2c91a-6ec2-422c-a729-65a1616b317b",
   "metadata": {},
   "source": [
    "## 📝 Step 2: Text Preprocessing\n",
    "We will clean and preprocess the text by:\n",
    "1. Lowercasing  \n",
    "2. Removing numbers and punctuation  \n",
    "3. Removing stopwords  \n",
    "4. Lemmatizing words  \n",
    "\n",
    "This ensures the model focuses on meaningful words.\n"
   ]
  },
  {
   "cell_type": "code",
   "execution_count": 26,
   "id": "607c039a-ecfb-4819-a5f5-5e11d60e61d3",
   "metadata": {},
   "outputs": [
    {
     "data": {
      "text/html": [
       "<div>\n",
       "<style scoped>\n",
       "    .dataframe tbody tr th:only-of-type {\n",
       "        vertical-align: middle;\n",
       "    }\n",
       "\n",
       "    .dataframe tbody tr th {\n",
       "        vertical-align: top;\n",
       "    }\n",
       "\n",
       "    .dataframe thead th {\n",
       "        text-align: right;\n",
       "    }\n",
       "</style>\n",
       "<table border=\"1\" class=\"dataframe\">\n",
       "  <thead>\n",
       "    <tr style=\"text-align: right;\">\n",
       "      <th></th>\n",
       "      <th>text</th>\n",
       "      <th>processed_text</th>\n",
       "    </tr>\n",
       "  </thead>\n",
       "  <tbody>\n",
       "    <tr>\n",
       "      <th>0</th>\n",
       "      <td>Title Description</td>\n",
       "      <td>title description</td>\n",
       "    </tr>\n",
       "    <tr>\n",
       "      <th>1</th>\n",
       "      <td>Wall St. Bears Claw Back Into the Black (Reute...</td>\n",
       "      <td>wall st bear claw back black reuters reuters s...</td>\n",
       "    </tr>\n",
       "    <tr>\n",
       "      <th>2</th>\n",
       "      <td>Carlyle Looks Toward Commercial Aerospace (Reu...</td>\n",
       "      <td>carlyle look toward commercial aerospace reute...</td>\n",
       "    </tr>\n",
       "    <tr>\n",
       "      <th>3</th>\n",
       "      <td>Oil and Economy Cloud Stocks' Outlook (Reuters...</td>\n",
       "      <td>oil economy cloud stock outlook reuters reuter...</td>\n",
       "    </tr>\n",
       "    <tr>\n",
       "      <th>4</th>\n",
       "      <td>Iraq Halts Oil Exports from Main Southern Pipe...</td>\n",
       "      <td>iraq halt oil export main southern pipeline re...</td>\n",
       "    </tr>\n",
       "  </tbody>\n",
       "</table>\n",
       "</div>"
      ],
      "text/plain": [
       "                                                text  \\\n",
       "0                                  Title Description   \n",
       "1  Wall St. Bears Claw Back Into the Black (Reute...   \n",
       "2  Carlyle Looks Toward Commercial Aerospace (Reu...   \n",
       "3  Oil and Economy Cloud Stocks' Outlook (Reuters...   \n",
       "4  Iraq Halts Oil Exports from Main Southern Pipe...   \n",
       "\n",
       "                                      processed_text  \n",
       "0                                  title description  \n",
       "1  wall st bear claw back black reuters reuters s...  \n",
       "2  carlyle look toward commercial aerospace reute...  \n",
       "3  oil economy cloud stock outlook reuters reuter...  \n",
       "4  iraq halt oil export main southern pipeline re...  "
      ]
     },
     "execution_count": 26,
     "metadata": {},
     "output_type": "execute_result"
    }
   ],
   "source": [
    "def preprocess_text(text):\n",
    "    text = text.lower()\n",
    "    text = re.sub(r'\\d+', '', text)\n",
    "    text = text.translate(str.maketrans('', '', string.punctuation))\n",
    "    tokens = text.split()\n",
    "    \n",
    "    stop_words = set(stopwords.words('english'))\n",
    "    lemmatizer = WordNetLemmatizer()\n",
    "    tokens = [lemmatizer.lemmatize(word) for word in tokens if word not in stop_words]\n",
    "    \n",
    "    return ' '.join(tokens)\n",
    "\n",
    "df['processed_text'] = df['text'].apply(preprocess_text)\n",
    "df[['text', 'processed_text']].head()\n"
   ]
  },
  {
   "cell_type": "markdown",
   "id": "bfb873ed-db5f-4586-bd7e-7caa1f8a69c0",
   "metadata": {},
   "source": [
    "## 🔎 Step 3: Feature Engineering with TF-IDF\n",
    "We now convert the processed text into **numerical vectors** using **TF-IDF**.  \n",
    "This captures the importance of each word relative to the document and the dataset.\n"
   ]
  },
  {
   "cell_type": "code",
   "execution_count": 27,
   "id": "5b7ab205-e930-41f5-b80c-8c99100b64de",
   "metadata": {},
   "outputs": [
    {
     "name": "stdout",
     "output_type": "stream",
     "text": [
      "TF-IDF vectorization complete.\n"
     ]
    }
   ],
   "source": [
    "X = df['processed_text']\n",
    "y = df['class']\n",
    "\n",
    "X_train, X_test, y_train, y_test = train_test_split(\n",
    "    X, y, test_size=0.2, random_state=42\n",
    ")\n",
    "\n",
    "tfidf_vectorizer = TfidfVectorizer(max_features=10000)\n",
    "X_train_tfidf = tfidf_vectorizer.fit_transform(X_train)\n",
    "X_test_tfidf = tfidf_vectorizer.transform(X_test)\n",
    "\n",
    "print(\"TF-IDF vectorization complete.\")\n"
   ]
  },
  {
   "cell_type": "markdown",
   "id": "7e366426-448c-41f9-ad07-7fcc6c48eb17",
   "metadata": {},
   "source": [
    "## 🚀 Step 4: Model Training with XGBoost\n",
    "We train an **XGBoost Classifier** for multiclass classification using the TF-IDF features.\n"
   ]
  },
  {
   "cell_type": "code",
   "execution_count": 33,
   "id": "3d5c89ad-1b78-441c-b7e9-d558312218f3",
   "metadata": {},
   "outputs": [
    {
     "name": "stderr",
     "output_type": "stream",
     "text": [
      "D:\\jupyter_lab\\env\\Lib\\site-packages\\xgboost\\training.py:183: UserWarning: [00:20:11] WARNING: C:\\actions-runner\\_work\\xgboost\\xgboost\\src\\learner.cc:738: \n",
      "Parameters: { \"use_label_encoder\" } are not used.\n",
      "\n",
      "  bst.update(dtrain, iteration=i, fobj=obj)\n"
     ]
    },
    {
     "name": "stdout",
     "output_type": "stream",
     "text": [
      "Accuracy: 0.8869166666666667\n",
      "\n",
      "Classification Report:\n",
      "               precision    recall  f1-score   support\n",
      "\n",
      "           0       0.91      0.88      0.89      6000\n",
      "           1       0.92      0.96      0.94      6000\n",
      "           2       0.86      0.86      0.86      6000\n",
      "           3       0.85      0.85      0.85      6000\n",
      "\n",
      "    accuracy                           0.89     24000\n",
      "   macro avg       0.89      0.89      0.89     24000\n",
      "weighted avg       0.89      0.89      0.89     24000\n",
      "\n"
     ]
    }
   ],
   "source": [
    "import re\n",
    "import string\n",
    "import pandas as pd\n",
    "from nltk.corpus import stopwords\n",
    "from nltk.stem import WordNetLemmatizer\n",
    "from sklearn.model_selection import train_test_split\n",
    "from sklearn.feature_extraction.text import TfidfVectorizer\n",
    "from xgboost import XGBClassifier\n",
    "from sklearn.metrics import classification_report, accuracy_score\n",
    "\n",
    "# -------------------\n",
    "# 1. Preprocessing function\n",
    "# -------------------\n",
    "def preprocess_text(text):\n",
    "    text = str(text).lower()\n",
    "    text = re.sub(r'\\d+', '', text)  # remove digits\n",
    "    text = text.translate(str.maketrans('', '', string.punctuation))  # remove punctuation\n",
    "    tokens = text.split()\n",
    "    \n",
    "    stop_words = set(stopwords.words('english'))\n",
    "    lemmatizer = WordNetLemmatizer()\n",
    "    tokens = [lemmatizer.lemmatize(word) for word in tokens if word not in stop_words]\n",
    "    \n",
    "    return ' '.join(tokens)\n",
    "\n",
    "# -------------------\n",
    "# 2. Create processed_text column\n",
    "# -------------------\n",
    "df['processed_text'] = (df['title'].astype(str) + \" \" + df['description'].astype(str)).apply(preprocess_text)\n",
    "\n",
    "# -------------------\n",
    "# 3. Features (X) and Labels (y)\n",
    "# -------------------\n",
    "X = df['processed_text']\n",
    "y = df['class'].astype(int) - 1   # adjust classes to start at 0\n",
    "\n",
    "# -------------------\n",
    "# 4. Train/Test split\n",
    "# -------------------\n",
    "X_train, X_test, y_train, y_test = train_test_split(\n",
    "    X, y, test_size=0.2, random_state=42, stratify=y\n",
    ")\n",
    "\n",
    "# -------------------\n",
    "# 5. Vectorization (TF-IDF)\n",
    "# -------------------\n",
    "vectorizer = TfidfVectorizer(max_features=5000, ngram_range=(1,2))\n",
    "X_train_vec = vectorizer.fit_transform(X_train)\n",
    "X_test_vec = vectorizer.transform(X_test)\n",
    "\n",
    "# -------------------\n",
    "# 6. XGBoost Classifier\n",
    "# -------------------\n",
    "model = XGBClassifier(\n",
    "    objective='multi:softmax', \n",
    "    num_class=len(y.unique()), \n",
    "    eval_metric='mlogloss',\n",
    "    random_state=42,\n",
    "    use_label_encoder=False\n",
    ")\n",
    "\n",
    "model.fit(X_train_vec, y_train)\n",
    "\n",
    "# -------------------\n",
    "# 7. Evaluation\n",
    "# -------------------\n",
    "y_pred = model.predict(X_test_vec)\n",
    "print(\"Accuracy:\", accuracy_score(y_test, y_pred))\n",
    "print(\"\\nClassification Report:\\n\", classification_report(y_test, y_pred))\n"
   ]
  },
  {
   "cell_type": "markdown",
   "id": "7dd69b37-93fd-4987-8309-ac0c84dcaa6b",
   "metadata": {},
   "source": [
    "## 📊 Step 5: Visualization of Word Frequencies\n",
    "Let’s visualize the **most frequent words** for each category.  \n",
    "Example: Category **1 = World News**\n"
   ]
  },
  {
   "cell_type": "code",
   "execution_count": 34,
   "id": "b7d3f86d-76db-4390-8628-092ad142826b",
   "metadata": {},
   "outputs": [
    {
     "data": {
      "image/png": "[encoded data removed]",
      "text/plain": [
       "<Figure size 1200x800 with 1 Axes>"
      ]
     },
     "metadata": {},
     "output_type": "display_data"
    },
    {
     "data": {
      "image/png": "[encoded data removed]",
      "text/plain": [
       "<Figure size 1200x800 with 1 Axes>"
      ]
     },
     "metadata": {},
     "output_type": "display_data"
    }
   ],
   "source": [
    "def visualize_top_words(category_class, top_n=20):\n",
    "    category_texts = df[df['class'] == category_class]['processed_text']\n",
    "    all_words = ' '.join(category_texts).split()\n",
    "    \n",
    "    word_counts = Counter(all_words)\n",
    "    most_common_words = word_counts.most_common(top_n)\n",
    "    \n",
    "    words, counts = zip(*most_common_words)\n",
    "    \n",
    "    plt.figure(figsize=(12, 8))\n",
    "    plt.barh(words, counts, color='teal')\n",
    "    plt.xlabel('Frequency')\n",
    "    plt.ylabel('Words')\n",
    "    plt.title(f'Most Frequent Words in Category {category_class}')\n",
    "    plt.gca().invert_yaxis()\n",
    "    plt.show()\n",
    "\n",
    "visualize_top_words(1)\n",
    "visualize_top_words(2)\n"
   ]
  },
  {
   "cell_type": "markdown",
   "id": "3686c559-2bb4-47cd-adfe-c5d68f71e9d6",
   "metadata": {},
   "source": [
    "## 🤖 Step 6: Neural Network with Keras\n",
    "We now try a **Neural Network approach** as an alternative to XGBoost.  \n",
    "Instead of TF-IDF, we use **Keras Tokenizer + Embedding Layer** to learn word representations.\n"
   ]
  },
  {
   "cell_type": "code",
   "execution_count": 35,
   "id": "3f8ae07f-4688-4a46-aa8f-e432d582be44",
   "metadata": {},
   "outputs": [],
   "source": [
    "vocab_size = 10000\n",
    "embedding_dim = 16\n",
    "max_length = 100\n",
    "trunc_type='post'\n",
    "oov_token = \"<oov>\"\n",
    "\n",
    "tokenizer = Tokenizer(num_words=vocab_size, oov_token=oov_token)\n",
    "tokenizer.fit_on_texts(X_train)\n",
    "\n",
    "train_sequences = tokenizer.texts_to_sequences(X_train)\n",
    "test_sequences = tokenizer.texts_to_sequences(X_test)\n",
    "\n",
    "train_padded = pad_sequences(train_sequences, maxlen=max_length, truncating=trunc_type)\n",
    "test_padded = pad_sequences(test_sequences, maxlen=max_length, truncating=trunc_type)\n",
    "\n",
    "y_train_nn = tf.keras.utils.to_categorical(y_train - 1, num_classes=4)\n",
    "y_test_nn = tf.keras.utils.to_categorical(y_test - 1, num_classes=4)\n"
   ]
  },
  {
   "cell_type": "markdown",
   "id": "aa0d26ed-d45c-4500-981a-e86b8e08bbde",
   "metadata": {},
   "source": [
    "### Build and Train the Neural Network\n",
    "We use a simple architecture with:\n",
    "- Embedding layer  \n",
    "- Dense + Dropout  \n",
    "- Softmax output for classification\n"
   ]
  },
  {
   "cell_type": "code",
   "execution_count": 36,
   "id": "4c6d06bf-77c5-48e4-b1a8-77999779b5f6",
   "metadata": {},
   "outputs": [
    {
     "name": "stderr",
     "output_type": "stream",
     "text": [
      "D:\\jupyter_lab\\env\\Lib\\site-packages\\keras\\src\\layers\\core\\embedding.py:97: UserWarning: Argument `input_length` is deprecated. Just remove it.\n",
      "  warnings.warn(\n"
     ]
    },
    {
     "data": {
      "text/html": [
       "<pre style=\"white-space:pre;overflow-x:auto;line-height:normal;font-family:Menlo,'DejaVu Sans Mono',consolas,'Courier New',monospace\"><span style=\"font-weight: bold\">Model: \"sequential\"</span>\n",
       "</pre>\n"
      ],
      "text/plain": [
       "\u001b[1mModel: \"sequential\"\u001b[0m\n"
      ]
     },
     "metadata": {},
     "output_type": "display_data"
    },
    {
     "data": {
      "text/html": [
       "<pre style=\"white-space:pre;overflow-x:auto;line-height:normal;font-family:Menlo,'DejaVu Sans Mono',consolas,'Courier New',monospace\">┏━━━━━━━━━━━━━━━━━━━━━━━━━━━━━━━━━━━━━━┳━━━━━━━━━━━━━━━━━━━━━━━━━━━━━┳━━━━━━━━━━━━━━━━━┓\n",
       "┃<span style=\"font-weight: bold\"> Layer (type)                         </span>┃<span style=\"font-weight: bold\"> Output Shape                </span>┃<span style=\"font-weight: bold\">         Param # </span>┃\n",
       "┡━━━━━━━━━━━━━━━━━━━━━━━━━━━━━━━━━━━━━━╇━━━━━━━━━━━━━━━━━━━━━━━━━━━━━╇━━━━━━━━━━━━━━━━━┩\n",
       "│ embedding (<span style=\"color: #0087ff; text-decoration-color: #0087ff\">Embedding</span>)                │ ?                           │     <span style=\"color: #00af00; text-decoration-color: #00af00\">0</span> (unbuilt) │\n",
       "├──────────────────────────────────────┼─────────────────────────────┼─────────────────┤\n",
       "│ flatten (<span style=\"color: #0087ff; text-decoration-color: #0087ff\">Flatten</span>)                    │ ?                           │     <span style=\"color: #00af00; text-decoration-color: #00af00\">0</span> (unbuilt) │\n",
       "├──────────────────────────────────────┼─────────────────────────────┼─────────────────┤\n",
       "│ dense (<span style=\"color: #0087ff; text-decoration-color: #0087ff\">Dense</span>)                        │ ?                           │     <span style=\"color: #00af00; text-decoration-color: #00af00\">0</span> (unbuilt) │\n",
       "├──────────────────────────────────────┼─────────────────────────────┼─────────────────┤\n",
       "│ dropout (<span style=\"color: #0087ff; text-decoration-color: #0087ff\">Dropout</span>)                    │ ?                           │               <span style=\"color: #00af00; text-decoration-color: #00af00\">0</span> │\n",
       "├──────────────────────────────────────┼─────────────────────────────┼─────────────────┤\n",
       "│ dense_1 (<span style=\"color: #0087ff; text-decoration-color: #0087ff\">Dense</span>)                      │ ?                           │     <span style=\"color: #00af00; text-decoration-color: #00af00\">0</span> (unbuilt) │\n",
       "└──────────────────────────────────────┴─────────────────────────────┴─────────────────┘\n",
       "</pre>\n"
      ],
      "text/plain": [
       "┏━━━━━━━━━━━━━━━━━━━━━━━━━━━━━━━━━━━━━━┳━━━━━━━━━━━━━━━━━━━━━━━━━━━━━┳━━━━━━━━━━━━━━━━━┓\n",
       "┃\u001b[1m \u001b[0m\u001b[1mLayer (type)                        \u001b[0m\u001b[1m \u001b[0m┃\u001b[1m \u001b[0m\u001b[1mOutput Shape               \u001b[0m\u001b[1m \u001b[0m┃\u001b[1m \u001b[0m\u001b[1m        Param #\u001b[0m\u001b[1m \u001b[0m┃\n",
       "┡━━━━━━━━━━━━━━━━━━━━━━━━━━━━━━━━━━━━━━╇━━━━━━━━━━━━━━━━━━━━━━━━━━━━━╇━━━━━━━━━━━━━━━━━┩\n",
       "│ embedding (\u001b[38;5;33mEmbedding\u001b[0m)                │ ?                           │     \u001b[38;5;34m0\u001b[0m (unbuilt) │\n",
       "├──────────────────────────────────────┼─────────────────────────────┼─────────────────┤\n",
       "│ flatten (\u001b[38;5;33mFlatten\u001b[0m)                    │ ?                           │     \u001b[38;5;34m0\u001b[0m (unbuilt) │\n",
       "├──────────────────────────────────────┼─────────────────────────────┼─────────────────┤\n",
       "│ dense (\u001b[38;5;33mDense\u001b[0m)                        │ ?                           │     \u001b[38;5;34m0\u001b[0m (unbuilt) │\n",
       "├──────────────────────────────────────┼─────────────────────────────┼─────────────────┤\n",
       "│ dropout (\u001b[38;5;33mDropout\u001b[0m)                    │ ?                           │               \u001b[38;5;34m0\u001b[0m │\n",
       "├──────────────────────────────────────┼─────────────────────────────┼─────────────────┤\n",
       "│ dense_1 (\u001b[38;5;33mDense\u001b[0m)                      │ ?                           │     \u001b[38;5;34m0\u001b[0m (unbuilt) │\n",
       "└──────────────────────────────────────┴─────────────────────────────┴─────────────────┘\n"
      ]
     },
     "metadata": {},
     "output_type": "display_data"
    },
    {
     "data": {
      "text/html": [
       "<pre style=\"white-space:pre;overflow-x:auto;line-height:normal;font-family:Menlo,'DejaVu Sans Mono',consolas,'Courier New',monospace\"><span style=\"font-weight: bold\"> Total params: </span><span style=\"color: #00af00; text-decoration-color: #00af00\">0</span> (0.00 B)\n",
       "</pre>\n"
      ],
      "text/plain": [
       "\u001b[1m Total params: \u001b[0m\u001b[38;5;34m0\u001b[0m (0.00 B)\n"
      ]
     },
     "metadata": {},
     "output_type": "display_data"
    },
    {
     "data": {
      "text/html": [
       "<pre style=\"white-space:pre;overflow-x:auto;line-height:normal;font-family:Menlo,'DejaVu Sans Mono',consolas,'Courier New',monospace\"><span style=\"font-weight: bold\"> Trainable params: </span><span style=\"color: #00af00; text-decoration-color: #00af00\">0</span> (0.00 B)\n",
       "</pre>\n"
      ],
      "text/plain": [
       "\u001b[1m Trainable params: \u001b[0m\u001b[38;5;34m0\u001b[0m (0.00 B)\n"
      ]
     },
     "metadata": {},
     "output_type": "display_data"
    },
    {
     "data": {
      "text/html": [
       "<pre style=\"white-space:pre;overflow-x:auto;line-height:normal;font-family:Menlo,'DejaVu Sans Mono',consolas,'Courier New',monospace\"><span style=\"font-weight: bold\"> Non-trainable params: </span><span style=\"color: #00af00; text-decoration-color: #00af00\">0</span> (0.00 B)\n",
       "</pre>\n"
      ],
      "text/plain": [
       "\u001b[1m Non-trainable params: \u001b[0m\u001b[38;5;34m0\u001b[0m (0.00 B)\n"
      ]
     },
     "metadata": {},
     "output_type": "display_data"
    },
    {
     "name": "stdout",
     "output_type": "stream",
     "text": [
      "\n",
      "Training the Neural Network...\n",
      "Epoch 1/10\n",
      "3000/3000 - 28s - 9ms/step - accuracy: 0.8614 - loss: 0.3963 - val_accuracy: 0.9152 - val_loss: 0.2527\n",
      "Epoch 2/10\n",
      "3000/3000 - 24s - 8ms/step - accuracy: 0.9252 - loss: 0.2315 - val_accuracy: 0.9168 - val_loss: 0.2544\n",
      "Epoch 3/10\n",
      "3000/3000 - 39s - 13ms/step - accuracy: 0.9389 - loss: 0.1815 - val_accuracy: 0.9139 - val_loss: 0.2729\n",
      "Epoch 4/10\n",
      "3000/3000 - 40s - 13ms/step - accuracy: 0.9549 - loss: 0.1301 - val_accuracy: 0.9071 - val_loss: 0.3146\n",
      "Epoch 5/10\n",
      "3000/3000 - 41s - 14ms/step - accuracy: 0.9711 - loss: 0.0840 - val_accuracy: 0.9029 - val_loss: 0.4076\n",
      "Epoch 6/10\n",
      "3000/3000 - 35s - 12ms/step - accuracy: 0.9802 - loss: 0.0552 - val_accuracy: 0.8975 - val_loss: 0.4741\n",
      "Epoch 7/10\n",
      "3000/3000 - 24s - 8ms/step - accuracy: 0.9864 - loss: 0.0391 - val_accuracy: 0.8958 - val_loss: 0.6026\n",
      "Epoch 8/10\n",
      "3000/3000 - 26s - 9ms/step - accuracy: 0.9900 - loss: 0.0302 - val_accuracy: 0.8922 - val_loss: 0.7051\n",
      "Epoch 9/10\n",
      "3000/3000 - 24s - 8ms/step - accuracy: 0.9914 - loss: 0.0257 - val_accuracy: 0.8916 - val_loss: 0.7605\n",
      "Epoch 10/10\n",
      "3000/3000 - 37s - 12ms/step - accuracy: 0.9931 - loss: 0.0204 - val_accuracy: 0.8919 - val_loss: 0.8485\n",
      "\n",
      "Neural Network Accuracy on Test Data: 0.8919\n"
     ]
    }
   ],
   "source": [
    "model = Sequential([\n",
    "    Embedding(vocab_size, embedding_dim, input_length=max_length),\n",
    "    Flatten(),\n",
    "    Dense(64, activation='relu'),\n",
    "    Dropout(0.5),\n",
    "    Dense(4, activation='softmax')\n",
    "])\n",
    "\n",
    "model.compile(loss='categorical_crossentropy', optimizer='adam', metrics=['accuracy'])\n",
    "model.summary()\n",
    "\n",
    "print(\"\\nTraining the Neural Network...\")\n",
    "history = model.fit(train_padded, y_train_nn, epochs=10, \n",
    "                    validation_data=(test_padded, y_test_nn), verbose=2)\n",
    "\n",
    "loss, accuracy = model.evaluate(test_padded, y_test_nn, verbose=0)\n",
    "print(f\"\\nNeural Network Accuracy on Test Data: {accuracy:.4f}\")\n"
   ]
  },
  {
   "cell_type": "code",
   "execution_count": null,
   "id": "c44b49d4-4ece-4723-8581-a156241485ab",
   "metadata": {},
   "outputs": [],
   "source": []
  }
 ],
 "metadata": {
  "kernelspec": {
   "display_name": "Python 3 (ipykernel)",
   "language": "python",
   "name": "python3"
  },
  "language_info": {
   "codemirror_mode": {
    "name": "ipython",
    "version": 3
   },
   "file_extension": ".py",
   "mimetype": "text/x-python",
   "name": "python",
   "nbconvert_exporter": "python",
   "pygments_lexer": "ipython3",
   "version": "3.13.3"
  }
 },
 "nbformat": 4,
 "nbformat_minor": 5
}
